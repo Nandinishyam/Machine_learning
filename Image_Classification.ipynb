{
  "cells": [
    {
      "cell_type": "markdown",
      "metadata": {
        "id": "view-in-github",
        "colab_type": "text"
      },
      "source": [
        "<a href=\"https://colab.research.google.com/github/Nandinishyam/Machine_learning/blob/main/Image_Classification.ipynb\" target=\"_parent\"><img src=\"https://colab.research.google.com/assets/colab-badge.svg\" alt=\"Open In Colab\"/></a>"
      ]
    },
    {
      "cell_type": "code",
      "execution_count": null,
      "metadata": {
        "id": "xMqwMCSZ_dL9"
      },
      "outputs": [],
      "source": [
        "import numpy as np\n",
        "import matplotlib.pyplot as plt\n",
        "import tensorflow as tf\n",
        "from tensorflow.keras.datasets import cifar10\n",
        "from tensorflow.keras.utils import to_categorical\n",
        "from tensorflow.keras.models import Sequential\n",
        "from tensorflow.keras.layers import Conv2D, MaxPooling2D, Flatten, Dense, Dropout\n",
        "from tensorflow.keras.preprocessing.image import ImageDataGenerator\n"
      ]
    },
    {
      "cell_type": "code",
      "execution_count": null,
      "metadata": {
        "colab": {
          "base_uri": "https://localhost:8080/"
        },
        "id": "IaV7HT6TAkv3",
        "outputId": "7d02d489-5e82-4cfc-cba2-8acc95991079"
      },
      "outputs": [
        {
          "name": "stdout",
          "output_type": "stream",
          "text": [
            "Downloading data from https://www.cs.toronto.edu/~kriz/cifar-10-python.tar.gz\n",
            "170498071/170498071 [==============================] - 2s 0us/step\n"
          ]
        }
      ],
      "source": [
        "(X_train, y_train),(X_test, y_test) = cifar10.load_data() #loading the data\n"
      ]
    },
    {
      "cell_type": "code",
      "execution_count": null,
      "metadata": {
        "id": "8HSUoov-BOgl"
      },
      "outputs": [],
      "source": [
        "# Normalize the pixel values between 0 and 1\n",
        "X_train = X_train.astype('float32') / 255.0\n",
        "X_test = X_test.astype('float32') / 255.0\n",
        "\n"
      ]
    },
    {
      "cell_type": "code",
      "execution_count": null,
      "metadata": {
        "id": "sb05co8ZB_2p"
      },
      "outputs": [],
      "source": [
        "#Convert the labels to one hot encoded vectors\n",
        "y_train = to_categorical(y_train, num_classes=10)\n",
        "y_test = to_categorical(y_test, num_classes=10)\n",
        "\n",
        "\n"
      ]
    },
    {
      "cell_type": "code",
      "execution_count": null,
      "metadata": {
        "id": "gl_F-3ufCZnJ"
      },
      "outputs": [],
      "source": [
        "#Get the class names\n",
        "class_names = ['airplanes', 'automobiles', 'bird', 'cat', 'deer', 'dog', 'frog', 'horse', 'ship', 'truck']\n"
      ]
    },
    {
      "cell_type": "code",
      "execution_count": null,
      "metadata": {
        "id": "2WFqOJgIC4dC"
      },
      "outputs": [],
      "source": [
        "#Data processing and Augmentation\n",
        "datagen = ImageDataGenerator(\n",
        "    rotation_range = 15,\n",
        "    width_shift_range = 0.1,\n",
        "    height_shift_range = 0.1,\n",
        ")"
      ]
    },
    {
      "cell_type": "code",
      "execution_count": null,
      "metadata": {
        "id": "qy2frqTkDmG6"
      },
      "outputs": [],
      "source": [
        "X_Gen = datagen.fit(X_train)\n"
      ]
    },
    {
      "cell_type": "code",
      "execution_count": null,
      "metadata": {
        "id": "XxSxen46Dsmu"
      },
      "outputs": [],
      "source": [
        "\n",
        "\n",
        "# Building the model\n",
        "model = Sequential()\n",
        "model.add(Conv2D(32, (3, 3), activation='relu', input_shape=(32, 32, 3)))  # Correct input shape, assuming 32x32 RGB images\n",
        "model.add(MaxPooling2D((2, 2)))\n",
        "model.add(Conv2D(64, (3, 3), activation='relu'))\n",
        "model.add(MaxPooling2D((2, 2)))\n",
        "\n"
      ]
    },
    {
      "cell_type": "code",
      "execution_count": null,
      "metadata": {
        "id": "eDr4oEK4E2iJ"
      },
      "outputs": [],
      "source": [
        "#Flatten the output\n",
        "model.add(Flatten())\n",
        "model.add(Dense(128, activation='relu'))\n",
        "model.add(Dropout(0.2))\n",
        "model.add(Dense(10,activation='softmax'))\n"
      ]
    },
    {
      "cell_type": "code",
      "execution_count": null,
      "metadata": {
        "id": "fzbY4nO5FVwT"
      },
      "outputs": [],
      "source": [
        "#complie the data\n",
        "model.compile(optimizer='adam', loss = 'categorical_crossentropy', metrics=['accuracy'])\n",
        "#define epoch and batch size\n",
        "epochs = 20\n",
        "batch_size = 64\n"
      ]
    },
    {
      "cell_type": "code",
      "execution_count": null,
      "metadata": {
        "colab": {
          "background_save": true,
          "base_uri": "https://localhost:8080/"
        },
        "id": "OvUAOLQ_FzCF",
        "outputId": "51fc2e42-6f66-4806-dba6-a89a7213adda"
      },
      "outputs": [
        {
          "name": "stdout",
          "output_type": "stream",
          "text": [
            "Epoch 1/20\n",
            "781/781 [==============================] - 101s 129ms/step - loss: 1.2208 - accuracy: 0.5670 - val_loss: 1.1062 - val_accuracy: 0.6069\n",
            "Epoch 2/20\n",
            "781/781 [==============================] - 90s 115ms/step - loss: 1.1526 - accuracy: 0.5916 - val_loss: 1.0685 - val_accuracy: 0.6314\n",
            "Epoch 3/20\n",
            "781/781 [==============================] - 91s 117ms/step - loss: 1.0997 - accuracy: 0.6121 - val_loss: 1.0733 - val_accuracy: 0.6208\n",
            "Epoch 4/20\n",
            "781/781 [==============================] - 90s 115ms/step - loss: 1.0597 - accuracy: 0.6257 - val_loss: 0.9119 - val_accuracy: 0.6873\n",
            "Epoch 5/20\n",
            "781/781 [==============================] - 90s 115ms/step - loss: 1.0252 - accuracy: 0.6388 - val_loss: 0.9054 - val_accuracy: 0.6850\n",
            "Epoch 6/20\n",
            "781/781 [==============================] - 92s 117ms/step - loss: 0.9986 - accuracy: 0.6481 - val_loss: 0.8599 - val_accuracy: 0.7008\n",
            "Epoch 7/20\n",
            "781/781 [==============================] - 92s 118ms/step - loss: 0.9730 - accuracy: 0.6564 - val_loss: 0.8399 - val_accuracy: 0.7092\n",
            "Epoch 8/20\n",
            "781/781 [==============================] - 88s 113ms/step - loss: 0.9441 - accuracy: 0.6672 - val_loss: 0.8575 - val_accuracy: 0.6996\n",
            "Epoch 9/20\n",
            "781/781 [==============================] - 90s 115ms/step - loss: 0.9253 - accuracy: 0.6727 - val_loss: 0.8814 - val_accuracy: 0.6927\n",
            "Epoch 10/20\n",
            "781/781 [==============================] - 87s 111ms/step - loss: 0.9111 - accuracy: 0.6801 - val_loss: 0.8468 - val_accuracy: 0.7056\n",
            "Epoch 11/20\n",
            "781/781 [==============================] - 87s 112ms/step - loss: 0.8920 - accuracy: 0.6849 - val_loss: 0.8644 - val_accuracy: 0.7008\n",
            "Epoch 12/20\n",
            "781/781 [==============================] - 89s 114ms/step - loss: 0.8818 - accuracy: 0.6902 - val_loss: 0.8304 - val_accuracy: 0.7204\n",
            "Epoch 13/20\n",
            "781/781 [==============================] - 90s 115ms/step - loss: 0.8636 - accuracy: 0.6962 - val_loss: 0.8037 - val_accuracy: 0.7192\n",
            "Epoch 14/20\n",
            "781/781 [==============================] - 90s 115ms/step - loss: 0.8515 - accuracy: 0.6999 - val_loss: 0.8969 - val_accuracy: 0.6917\n",
            "Epoch 15/20\n",
            "781/781 [==============================] - 89s 114ms/step - loss: 0.8400 - accuracy: 0.7031 - val_loss: 0.7692 - val_accuracy: 0.7387\n",
            "Epoch 16/20\n",
            "781/781 [==============================] - 89s 114ms/step - loss: 0.8336 - accuracy: 0.7052 - val_loss: 0.7818 - val_accuracy: 0.7348\n",
            "Epoch 17/20\n",
            "781/781 [==============================] - 88s 113ms/step - loss: 0.8191 - accuracy: 0.7115 - val_loss: 0.8090 - val_accuracy: 0.7239\n",
            "Epoch 18/20\n",
            "781/781 [==============================] - 89s 114ms/step - loss: 0.8128 - accuracy: 0.7137 - val_loss: 0.7915 - val_accuracy: 0.7276\n",
            "Epoch 19/20\n",
            "781/781 [==============================] - 89s 114ms/step - loss: 0.7994 - accuracy: 0.7186 - val_loss: 0.7980 - val_accuracy: 0.7299\n",
            "Epoch 20/20\n",
            "781/781 [==============================] - 89s 114ms/step - loss: 0.7894 - accuracy: 0.7233 - val_loss: 0.7929 - val_accuracy: 0.7337\n"
          ]
        }
      ],
      "source": [
        "# Train the model with corrected formatting and parameters\n",
        "history = model.fit(\n",
        "    datagen.flow(X_train, y_train, batch_size=batch_size),  # Training data generator\n",
        "    steps_per_epoch=len(X_train) // batch_size,  # Number of steps per epoch\n",
        "    epochs=epochs,  # Number of epochs\n",
        "    validation_data=(X_test, y_test)  # Validation data\n",
        ")\n",
        "\n"
      ]
    },
    {
      "cell_type": "code",
      "execution_count": null,
      "metadata": {
        "colab": {
          "base_uri": "https://localhost:8080/",
          "height": 641
        },
        "id": "YE4F8IGiGqKR",
        "outputId": "bbb379a8-6a3d-42a3-a119-986972429b6c"
      },
      "outputs": [
        {
          "name": "stdout",
          "output_type": "stream",
          "text": [
            "313/313 - 5s - loss: 1.1454 - accuracy: 0.5933 - 5s/epoch - 15ms/step\n"
          ]
        },
        {
          "ename": "KeyError",
          "evalue": "'validation_accuracy'",
          "output_type": "error",
          "traceback": [
            "\u001b[0;31m---------------------------------------------------------------------------\u001b[0m",
            "\u001b[0;31mKeyError\u001b[0m                                  Traceback (most recent call last)",
            "\u001b[0;32m<ipython-input-39-114bdb4e3c70>\u001b[0m in \u001b[0;36m<cell line: 6>\u001b[0;34m()\u001b[0m\n\u001b[1;32m      4\u001b[0m \u001b[0;31m# Plot training and validation accuracy\u001b[0m\u001b[0;34m\u001b[0m\u001b[0;34m\u001b[0m\u001b[0m\n\u001b[1;32m      5\u001b[0m \u001b[0mplt\u001b[0m\u001b[0;34m.\u001b[0m\u001b[0mplot\u001b[0m\u001b[0;34m(\u001b[0m\u001b[0mhistory\u001b[0m\u001b[0;34m.\u001b[0m\u001b[0mhistory\u001b[0m\u001b[0;34m[\u001b[0m\u001b[0;34m'accuracy'\u001b[0m\u001b[0;34m]\u001b[0m\u001b[0;34m,\u001b[0m \u001b[0mlabel\u001b[0m\u001b[0;34m=\u001b[0m\u001b[0;34m'Training Accuracy'\u001b[0m\u001b[0;34m)\u001b[0m\u001b[0;34m\u001b[0m\u001b[0;34m\u001b[0m\u001b[0m\n\u001b[0;32m----> 6\u001b[0;31m \u001b[0mplt\u001b[0m\u001b[0;34m.\u001b[0m\u001b[0mplot\u001b[0m\u001b[0;34m(\u001b[0m\u001b[0mhistory\u001b[0m\u001b[0;34m.\u001b[0m\u001b[0mhistory\u001b[0m\u001b[0;34m[\u001b[0m\u001b[0;34m'validation_accuracy'\u001b[0m\u001b[0;34m]\u001b[0m\u001b[0;34m,\u001b[0m \u001b[0mlabel\u001b[0m\u001b[0;34m=\u001b[0m\u001b[0;34m'Validation Accuracy'\u001b[0m\u001b[0;34m)\u001b[0m\u001b[0;34m\u001b[0m\u001b[0;34m\u001b[0m\u001b[0m\n\u001b[0m\u001b[1;32m      7\u001b[0m \u001b[0mplt\u001b[0m\u001b[0;34m.\u001b[0m\u001b[0mxlabel\u001b[0m\u001b[0;34m(\u001b[0m\u001b[0;34m'Epochs'\u001b[0m\u001b[0;34m)\u001b[0m\u001b[0;34m\u001b[0m\u001b[0;34m\u001b[0m\u001b[0m\n\u001b[1;32m      8\u001b[0m \u001b[0mplt\u001b[0m\u001b[0;34m.\u001b[0m\u001b[0mylabel\u001b[0m\u001b[0;34m(\u001b[0m\u001b[0;34m'loss'\u001b[0m\u001b[0;34m)\u001b[0m\u001b[0;34m\u001b[0m\u001b[0;34m\u001b[0m\u001b[0m\n",
            "\u001b[0;31mKeyError\u001b[0m: 'validation_accuracy'"
          ]
        },
        {
          "data": {
            "image/png": "[encoded data removed]",
            "text/plain": [
              "<Figure size 640x480 with 1 Axes>"
            ]
          },
          "metadata": {},
          "output_type": "display_data"
        }
      ],
      "source": [
        "#Evaluate the model\n",
        "test_loss, test_accuracy = model.evaluate(X_test, y_test, verbose = 2)\n",
        "#Plot the training and validation accuracy over epoch\n",
        "# Plot training and validation accuracy\n",
        "plt.plot(history.history['accuracy'], label='Training Accuracy')\n",
        "plt.plot(history.history['val_accuracy'], label='Validation Accuracy')\n",
        "plt.xlabel('Epochs')\n",
        "plt.ylabel('loss')\n",
        "plt.title('Training and Validation Accuracy over Epochs')\n",
        "plt.legend()\n",
        "plt.show()\n",
        "\n",
        "plt.plot(history.history['loss'], label='Training loss')\n",
        "plt.plot(history.history['val_loss'], label='Validation Loss')\n",
        "\n",
        "plt.xlabel('Epochs')\n",
        "plt.ylabel('loss')\n",
        "plt.title('Training and Validation Accuracy over Epochs')\n",
        "plt.legend()\n",
        "plt.show()\n"
      ]
    }
  ],
  "metadata": {
    "colab": {
      "provenance": [],
      "authorship_tag": "ABX9TyMca5LnDKILwi7tK0a04Zo9",
      "include_colab_link": true
    },
    "kernelspec": {
      "display_name": "Python 3",
      "name": "python3"
    },
    "language_info": {
      "name": "python"
    }
  },
  "nbformat": 4,
  "nbformat_minor": 0
}