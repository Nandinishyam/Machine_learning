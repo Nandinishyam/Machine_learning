{
  "nbformat": 4,
  "nbformat_minor": 0,
  "metadata": {
    "colab": {
      "provenance": [],
      "authorship_tag": "ABX9TyN37vLI2KQEeKdOJV1qRoj4",
      "include_colab_link": true
    },
    "kernelspec": {
      "name": "python3",
      "display_name": "Python 3"
    },
    "language_info": {
      "name": "python"
    }
  },
  "cells": [
    {
      "cell_type": "markdown",
      "metadata": {
        "id": "view-in-github",
        "colab_type": "text"
      },
      "source": [
        "<a href=\"https://colab.research.google.com/github/Nandinishyam/Machine_learning/blob/main/Movie_recomendation_system.ipynb\" target=\"_parent\"><img src=\"https://colab.research.google.com/assets/colab-badge.svg\" alt=\"Open In Colab\"/></a>"
      ]
    },
    {
      "cell_type": "code",
      "execution_count": 1,
      "metadata": {
        "id": "I_KFmo_MaSXi"
      },
      "outputs": [],
      "source": [
        "#importing libraries\n",
        "import pandas as pd\n",
        "from sklearn.metrics.pairwise import cosine_similarity\n",
        "from sklearn.feature_extraction.text import CountVectorizer"
      ]
    },
    {
      "cell_type": "code",
      "source": [
        "# Sample dataset\n",
        "data = {\n",
        "    'Movie_ID': [1, 2, 3, 4, 5],\n",
        "    'Title': ['Inception', 'The Matrix', 'Interstellar', 'The Dark Knight', 'Pulp Fiction'],\n",
        "    'Genres': ['Sci-Fi, Thriller', 'Sci-Fi, Action', 'Sci-Fi, Adventure', 'Action, Crime, Thriller', 'Crime, Drama']\n",
        "}\n",
        "\n",
        "movies=pd.DataFrame(data)\n",
        "print(movies)"
      ],
      "metadata": {
        "colab": {
          "base_uri": "https://localhost:8080/"
        },
        "id": "HZIu5_6abqmA",
        "outputId": "c6fc7790-e71b-4eab-b7ac-4b2231e22cf3"
      },
      "execution_count": 3,
      "outputs": [
        {
          "output_type": "stream",
          "name": "stdout",
          "text": [
            "   Movie_ID            Title                   Genres\n",
            "0         1        Inception         Sci-Fi, Thriller\n",
            "1         2       The Matrix           Sci-Fi, Action\n",
            "2         3     Interstellar        Sci-Fi, Adventure\n",
            "3         4  The Dark Knight  Action, Crime, Thriller\n",
            "4         5     Pulp Fiction             Crime, Drama\n"
          ]
        }
      ]
    },
    {
      "cell_type": "code",
      "source": [
        "#removing spaces and making lowercase\n",
        "movies['Genres']=movies['Genres'].str.replace('','').str.lower()\n",
        "print(movies['Genres'])"
      ],
      "metadata": {
        "colab": {
          "base_uri": "https://localhost:8080/"
        },
        "collapsed": true,
        "id": "B17HgaBXb2aJ",
        "outputId": "7102e1e1-047f-45a0-a434-b3785841c711"
      },
      "execution_count": 5,
      "outputs": [
        {
          "output_type": "stream",
          "name": "stdout",
          "text": [
            "0           sci-fi, thriller\n",
            "1             sci-fi, action\n",
            "2          sci-fi, adventure\n",
            "3    action, crime, thriller\n",
            "4               crime, drama\n",
            "Name: Genres, dtype: object\n"
          ]
        }
      ]
    },
    {
      "cell_type": "code",
      "source": [
        "#converting Genre into a bag of words matrix (BoW)\n",
        "count_vectorizer=CountVectorizer(tokenizer=lambda x: x.split(','))\n",
        "genre_matrix=count_vectorizer.fit_transform(movies['Genres'])\n",
        "\n",
        "print(genre_matrix)"
      ],
      "metadata": {
        "colab": {
          "base_uri": "https://localhost:8080/"
        },
        "collapsed": true,
        "id": "FjL_YOBFczun",
        "outputId": "a1982a1e-c339-4b7f-91e0-91c1d33f0477"
      },
      "execution_count": 10,
      "outputs": [
        {
          "output_type": "stream",
          "name": "stdout",
          "text": [
            "  (0, 7)\t1\n",
            "  (0, 4)\t1\n",
            "  (1, 7)\t1\n",
            "  (1, 0)\t1\n",
            "  (2, 7)\t1\n",
            "  (2, 1)\t1\n",
            "  (3, 4)\t1\n",
            "  (3, 5)\t1\n",
            "  (3, 2)\t1\n",
            "  (4, 6)\t1\n",
            "  (4, 3)\t1\n"
          ]
        }
      ]
    },
    {
      "cell_type": "code",
      "source": [
        "#using cosine similarity\n",
        "cos_sim=cosine_similarity(genre_matrix)\n",
        "print(cos_sim)\n",
        ""
      ],
      "metadata": {
        "colab": {
          "base_uri": "https://localhost:8080/"
        },
        "collapsed": true,
        "id": "QGojIMEpeq2u",
        "outputId": "02003d24-e036-417d-f681-9b6eae0a2c05"
      },
      "execution_count": 11,
      "outputs": [
        {
          "output_type": "stream",
          "name": "stdout",
          "text": [
            "[[1.         0.5        0.5        0.40824829 0.        ]\n",
            " [0.5        1.         0.5        0.         0.        ]\n",
            " [0.5        0.5        1.         0.         0.        ]\n",
            " [0.40824829 0.         0.         1.         0.        ]\n",
            " [0.         0.         0.         0.         1.        ]]\n"
          ]
        }
      ]
    },
    {
      "cell_type": "code",
      "source": [
        "def movie_recom(movie_title, movies_df, similarity_matrix, top_n=3):\n",
        "    movie_idx = movies_df[movies_df['Title'].str.lower() == movie_title.lower()].index[0]\n",
        "    similarity_scores = list(enumerate(similarity_matrix[movie_idx]))\n",
        "    sorted_scores = sorted(similarity_scores, key=lambda x: x[1], reverse=True)\n",
        "    sorted_scores = sorted_scores[1:top_n+1]\n",
        "    movie_indices = [idx for idx, _ in sorted_scores]\n",
        "    return movies_df.iloc[movie_indices]['Title']\n"
      ],
      "metadata": {
        "id": "U3a4vcWJgRAN"
      },
      "execution_count": 14,
      "outputs": []
    },
    {
      "cell_type": "code",
      "source": [
        "# Example: Recommend movies\n",
        "movie_name = input(\"Enter the movie name: \")  # String prompt for user input\n",
        "recommended_movies = movie_recom(movie_name, movies, cos_sim)\n",
        "print(\"Movies similar to:\", movie_name)\n",
        "print(recommended_movies)\n"
      ],
      "metadata": {
        "colab": {
          "base_uri": "https://localhost:8080/"
        },
        "id": "hesy7s0niIZT",
        "outputId": "d2b8a54b-1494-497d-fa8a-03033da00247"
      },
      "execution_count": 20,
      "outputs": [
        {
          "output_type": "stream",
          "name": "stdout",
          "text": [
            "Enter the movie name: Interstellar\n",
            "Movies similar to: Interstellar\n",
            "0          Inception\n",
            "1         The Matrix\n",
            "3    The Dark Knight\n",
            "Name: Title, dtype: object\n"
          ]
        }
      ]
    }
  ]
}